{
 "cells": [
  {
   "cell_type": "code",
   "execution_count": 79,
   "metadata": {},
   "outputs": [],
   "source": [
    "# These credentials have been revoked\n",
    "API_KEY = \"aUBgELwxzluJfSS6st3Z3ScJy\"\n",
    "API_SECRET = \"wczxoyzmb5GnHwdj7xDBJoT3hz7yLGL6yT8wdXDoiGpFB9DAXX\"\n",
    "BEARER_TOKEN = \"AAAAAAAAAAAAAAAAAAAAAKZaMwEAAAAAXSOt9maYKSIY0YYuYvxS1lPirVg%3DwgsZdnZMWPSVv1D9cm05Onp9npbnoxEbt0ekcqV5R0g3sy9qFb\"\n",
    "ACCESS_TOKEN = \"146794612-nfeMjFqEjAa3pprn2Vjpvt9M6lAwXt35e7SCVLp1\"\n",
    "ACCESS_TOKEN_SECRET = \"a1SeQI6t384TAKOYLDQOsJLSNP83hfSEts2nEG9sMy0Rz\""
   ]
  },
  {
   "cell_type": "code",
   "execution_count": 32,
   "metadata": {},
   "outputs": [],
   "source": [
    "import tweepy\n",
    "import csv\n",
    "import json"
   ]
  },
  {
   "cell_type": "code",
   "execution_count": 33,
   "metadata": {},
   "outputs": [],
   "source": [
    "auth = tweepy.OAuthHandler(API_KEY, API_SECRET)\n",
    "auth.set_access_token(ACCESS_TOKEN, ACCESS_TOKEN_SECRET)\n",
    "\n",
    "api = tweepy.API(auth)"
   ]
  },
  {
   "cell_type": "code",
   "execution_count": 76,
   "metadata": {},
   "outputs": [],
   "source": [
    "QUERY = \"$RMO\"\n",
    "STOCK = \"RMO\"\n",
    "UNTIL = \"2021-04-07\"\n",
    "MAX_ID = 1379382089775153151\n",
    "SINCE_ID = 1379222027299590144"
   ]
  },
  {
   "cell_type": "code",
   "execution_count": 77,
   "metadata": {},
   "outputs": [],
   "source": [
    "csvFile = open(f\"{STOCK}-{UNTIL}.csv\", 'a')\n",
    "csvWriter = csv.writer(csvFile)"
   ]
  },
  {
   "cell_type": "code",
   "execution_count": 78,
   "metadata": {},
   "outputs": [
    {
     "name": "stdout",
     "output_type": "stream",
     "text": [
      "Page 1\n",
      "Page 2\n",
      "Page 3\n",
      "Page 4\n",
      "Page 5\n",
      "Page 6\n"
     ]
    }
   ],
   "source": [
    "cursor = tweepy.Cursor(\n",
    "    api.search, \n",
    "    q=QUERY, \n",
    "    lang=\"en\", \n",
    "#     until=UNTIL, \n",
    "    max_id=MAX_ID,\n",
    "#     since_id=SINCE_ID\n",
    ").pages(10)\n",
    "rows = []\n",
    "tweet_id = None\n",
    "for i, page in enumerate(cursor):\n",
    "    print(\"Page\", i + 1)\n",
    "    for tweet in page:\n",
    "        tweet_id = tweet.id\n",
    "        #if '$amzn' not in tweet._json['text'].lower():\n",
    "        #    continue\n",
    "        urls = tweet._json['entities']['urls']\n",
    "        url = ''\n",
    "        for u in urls:\n",
    "            if u['expanded_url'].startswith(\"https://twitter.com\"):\n",
    "                continue\n",
    "            else:\n",
    "                url = u['expanded_url']\n",
    "                break\n",
    "        \n",
    "        row = [\n",
    "            tweet.created_at, tweet.id,\n",
    "            tweet._json['text'].replace('\\n', ' ').replace('\\t', ''), url,\n",
    "            tweet._json['user']['screen_name'],\n",
    "            tweet._json['user']['name'],\n",
    "        ]\n",
    "        rows.append(row)\n",
    "        \n",
    "for row in sorted(rows, key=lambda x: x[1], reverse=True):    \n",
    "    csvWriter.writerow(row)\n",
    "    \n",
    "csvFile.close()"
   ]
  },
  {
   "cell_type": "code",
   "execution_count": 15,
   "metadata": {},
   "outputs": [
    {
     "data": {
      "text/plain": [
       "1380214566286675976"
      ]
     },
     "execution_count": 15,
     "metadata": {},
     "output_type": "execute_result"
    }
   ],
   "source": [
    "tweet_id"
   ]
  },
  {
   "cell_type": "code",
   "execution_count": null,
   "metadata": {},
   "outputs": [],
   "source": []
  },
  {
   "cell_type": "code",
   "execution_count": null,
   "metadata": {},
   "outputs": [],
   "source": []
  }
 ],
 "metadata": {
  "kernelspec": {
   "display_name": "Python 3",
   "language": "python",
   "name": "python3"
  },
  "language_info": {
   "codemirror_mode": {
    "name": "ipython",
    "version": 3
   },
   "file_extension": ".py",
   "mimetype": "text/x-python",
   "name": "python",
   "nbconvert_exporter": "python",
   "pygments_lexer": "ipython3",
   "version": "3.8.5"
  }
 },
 "nbformat": 4,
 "nbformat_minor": 4
}
