{
 "cells": [
  {
   "cell_type": "code",
   "execution_count": 7,
   "metadata": {},
   "outputs": [],
   "source": [
    "API_KEY = \"aUBgELwxzluJfSS6st3Z3ScJy\"\n",
    "API_SECRET = \"wczxoyzmb5GnHwdj7xDBJoT3hz7yLGL6yT8wdXDoiGpFB9DAXX\"\n",
    "BEARER_TOKEN = \"AAAAAAAAAAAAAAAAAAAAAKZaMwEAAAAAXSOt9maYKSIY0YYuYvxS1lPirVg%3DwgsZdnZMWPSVv1D9cm05Onp9npbnoxEbt0ekcqV5R0g3sy9qFb\"\n",
    "ACCESS_TOKEN = \"146794612-nfeMjFqEjAa3pprn2Vjpvt9M6lAwXt35e7SCVLp1\"\n",
    "ACCESS_TOKEN_SECRET = \"a1SeQI6t384TAKOYLDQOsJLSNP83hfSEts2nEG9sMy0Rz\""
   ]
  },
  {
   "cell_type": "code",
   "execution_count": 8,
   "metadata": {},
   "outputs": [],
   "source": [
    "import tweepy\n",
    "import csv\n",
    "import json"
   ]
  },
  {
   "cell_type": "code",
   "execution_count": 9,
   "metadata": {},
   "outputs": [],
   "source": [
    "auth = tweepy.OAuthHandler(API_KEY, API_SECRET)\n",
    "auth.set_access_token(ACCESS_TOKEN, ACCESS_TOKEN_SECRET)\n",
    "\n",
    "api = tweepy.API(auth)"
   ]
  },
  {
   "cell_type": "code",
   "execution_count": 560,
   "metadata": {},
   "outputs": [],
   "source": [
    "QUERY = \"$AAPL\"\n",
    "STOCK = \"AAPL\"\n",
    "UNTIL = \"2021-04-08\"\n",
    "MAX_ID = 1379587736227692550\n",
    "SINCE_ID = 1379584594354307078"
   ]
  },
  {
   "cell_type": "code",
   "execution_count": 561,
   "metadata": {},
   "outputs": [],
   "source": [
    "csvFile = open(f\"{UNTIL}.csv\", 'a')\n",
    "csvWriter = csv.writer(csvFile)"
   ]
  },
  {
   "cell_type": "code",
   "execution_count": 562,
   "metadata": {},
   "outputs": [
    {
     "name": "stdout",
     "output_type": "stream",
     "text": [
      "Page 1\n",
      "Page 2\n"
     ]
    }
   ],
   "source": [
    "cursor = tweepy.Cursor(\n",
    "    api.search, \n",
    "    q=QUERY, \n",
    "    lang=\"en\", \n",
    "#     until=UNTIL, \n",
    "    max_id=MAX_ID,\n",
    "    since_id=SINCE_ID\n",
    ").pages(10)\n",
    "rows = []\n",
    "for i, page in enumerate(cursor):\n",
    "    print(\"Page\", i + 1)\n",
    "    for tweet in page:\n",
    "        urls = tweet._json['entities']['urls']\n",
    "        url = ''\n",
    "        for u in urls:\n",
    "            if u['expanded_url'].startswith(\"https://twitter.com\"):\n",
    "                continue\n",
    "            else:\n",
    "                url = u['expanded_url']\n",
    "                break\n",
    "        \n",
    "        row = [\n",
    "            tweet.created_at, tweet.id,\n",
    "            tweet._json['text'].replace('\\n', ' ').replace('\\t', ''), url,\n",
    "            tweet._json['user']['screen_name'],\n",
    "            tweet._json['user']['name'],\n",
    "        ]\n",
    "        rows.append(row)\n",
    "        \n",
    "for row in sorted(rows, key=lambda x: x[1], reverse=True):    \n",
    "    csvWriter.writerow(row)\n",
    "    \n",
    "csvFile.close()"
   ]
  },
  {
   "cell_type": "code",
   "execution_count": 55,
   "metadata": {},
   "outputs": [],
   "source": []
  },
  {
   "cell_type": "code",
   "execution_count": null,
   "metadata": {},
   "outputs": [],
   "source": []
  }
 ],
 "metadata": {
  "kernelspec": {
   "display_name": "Python 3",
   "language": "python",
   "name": "python3"
  },
  "language_info": {
   "codemirror_mode": {
    "name": "ipython",
    "version": 3
   },
   "file_extension": ".py",
   "mimetype": "text/x-python",
   "name": "python",
   "nbconvert_exporter": "python",
   "pygments_lexer": "ipython3",
   "version": "3.8.5"
  }
 },
 "nbformat": 4,
 "nbformat_minor": 4
}
