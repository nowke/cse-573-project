{
 "cells": [
  {
   "cell_type": "code",
   "execution_count": 13,
   "id": "d8c342aa",
   "metadata": {
    "scrolled": true
   },
   "outputs": [
    {
     "data": {
      "image/png": "[encoded data removed]",
      "text/plain": [
       "<Figure size 432x288 with 1 Axes>"
      ]
     },
     "metadata": {
      "needs_background": "light"
     },
     "output_type": "display_data"
    },
    {
     "name": "stdout",
     "output_type": "stream",
     "text": [
      "437.4499999999998 2505.420000000002\n",
      "36.848445028471296 % Investment growth in 13 months\n",
      "211.04316183159824 % Model growth in 13 months\n",
      "373.45909497279104 % Model compound growth in 13 months\n",
      "16.2340893716614 % per month\n"
     ]
    }
   ],
   "source": [
    "import pandas as pd\n",
    "import numpy as np\n",
    "import matplotlib.pyplot as plt\n",
    "\n",
    "pred_name = \"Para_News240_Combined_240_Predictions_XGBoost_TFIDF\"\n",
    "\n",
    "news_time = 240\n",
    "stock = 'Amazon'\n",
    "interval = 240\n",
    "\n",
    "#charts_path = \"../DataSets/Stock Prices/\" + str(stock) + '_data_' + str(interval) + 'm.csv'\n",
    "#chart_data = pd.read_csv(charts_path, header=0)\n",
    "#chart_data['DateTime'] = pd.to_datetime(chart_data['Datetime'], utc=True)\n",
    "\n",
    "charts_path = '../DataSets/CHARTS/CHARTS/'\n",
    "charts_path += str.upper(stock) + str(interval) + '.csv'\n",
    "chart_data = pd.read_csv(charts_path, names = ['Date', 'Time', 'Open', 'High', 'Low', 'Close', 'Volume'])\n",
    "chart_data['DateTime'] = chart_data.Date + \"T\" + chart_data.Time\n",
    "chart_data['DateTime'] = pd.to_datetime(chart_data['DateTime'], format='%Y.%m.%d %H:%M',utc=True)\n",
    "chart_data['Movement'] = np.where(chart_data['Open'] < chart_data['Close'],1,-1)\n",
    "\n",
    "val_nat_list = [0]\n",
    "val_list = [0]\n",
    "val_nat = 0\n",
    "val = 0\n",
    "com = 1\n",
    "\n",
    "pred_path = \"../DataSets/Predictions/\" + str(pred_name) + \".csv\"\n",
    "pred = pd.read_csv(pred_path, header = 0)\n",
    "pred['DateTime'] = pd.to_datetime(pred['DateTime'], utc=True)\n",
    "pred = pred.sort_values(by='DateTime').reset_index()\n",
    "count = 0\n",
    "for pred_index, p in pred.iterrows():\n",
    "    for chart_index, chart in chart_data.iterrows():\n",
    "        react_time = (chart.DateTime - p.DateTime).total_seconds()\n",
    "        if react_time >= news_time*60 and react_time < (interval+news_time)*60:\n",
    "            if count == 0:\n",
    "                Invest_price = chart.Open\n",
    "                Invest_time = chart.DateTime\n",
    "            #if abs(chart.Close - chart.Open) > 95:\n",
    "            #val += p.ActualMovement * (chart.Close - chart.Open)\n",
    "            if p.PredictedMovement != 0 and p.Stock == stock:\n",
    "                val += p.PredictedMovement * (chart.Close - chart.Open)\n",
    "                com *= (chart.Close/chart.Open) ** p.PredictedMovement\n",
    "                val_nat = chart.Close - Invest_price\n",
    "                val_nat_list.append(val_nat)\n",
    "                val_list.append(val)\n",
    "                count += 1\n",
    "                Selling_price = chart.Close\n",
    "                Selling_time = chart.DateTime\n",
    "        elif react_time < 0:\n",
    "            chart_data.drop(chart_index, inplace = True)\n",
    "        if react_time > (interval+news_time)*60:\n",
    "            break\n",
    "\n",
    "plt.plot(range(count+1), val_nat_list, label = 'Investment')\n",
    "plt.plot(range(count+1), val_list, label = 'Model')\n",
    "plt.title(\"No. of trades = \" + str(count+1))\n",
    "plt.legend()\n",
    "plt.xticks([])\n",
    "plt.show()\n",
    "\n",
    "time = (Selling_time.year - Invest_time.year) * 12 + (Selling_time.month - Invest_time.month)\n",
    "val_nat = Selling_price - Invest_price\n",
    "print(val_nat,val)\n",
    "print((val_nat*100)/Invest_price,\"% Investment growth in\", time, \"months\")\n",
    "print((val*100)/Invest_price,\"% Model growth in\", time, \"months\")\n",
    "print((com-1)*100,\"% Model compound growth in\", time, \"months\")\n",
    "print((val*100)/(Invest_price*time),\"% per month\")"
   ]
  },
  {
   "cell_type": "code",
   "execution_count": 154,
   "id": "054df0db",
   "metadata": {},
   "outputs": [
    {
     "name": "stdout",
     "output_type": "stream",
     "text": [
      "60.03103524717358\n"
     ]
    }
   ],
   "source": [
    "a = (np.sum(np.where(pred.PredictedMovement == pred.ActualMovement,1,0)))\n",
    "b = (pred.shape[0]+1)\n",
    "print(100*a/b)"
   ]
  },
  {
   "cell_type": "code",
   "execution_count": null,
   "id": "cfdc78be",
   "metadata": {},
   "outputs": [],
   "source": []
  }
 ],
 "metadata": {
  "kernelspec": {
   "display_name": "Python 3",
   "language": "python",
   "name": "python3"
  },
  "language_info": {
   "codemirror_mode": {
    "name": "ipython",
    "version": 3
   },
   "file_extension": ".py",
   "mimetype": "text/x-python",
   "name": "python",
   "nbconvert_exporter": "python",
   "pygments_lexer": "ipython3",
   "version": "3.8.5"
  }
 },
 "nbformat": 4,
 "nbformat_minor": 5
}
