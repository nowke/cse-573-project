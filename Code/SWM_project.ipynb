{
  "nbformat": 4,
  "nbformat_minor": 0,
  "metadata": {
    "colab": {
      "name": "SWM_project.ipynb",
      "provenance": [],
      "collapsed_sections": []
    },
    "kernelspec": {
      "name": "python3",
      "display_name": "Python 3"
    }
  },
  "cells": [
    {
      "cell_type": "code",
      "metadata": {
        "id": "zp1ImEYnV3xr"
      },
      "source": [
        "import numpy as np\r\n",
        "import matplotlib.pyplot as plt\r\n",
        "import pandas as pd"
      ],
      "execution_count": 1,
      "outputs": []
    },
    {
      "cell_type": "markdown",
      "metadata": {
        "id": "cbSoeV6sHFGa"
      },
      "source": [
        "Assuming dataset is tab separated and has 2 columns ( news and its corresponding annotation)\r\n"
      ]
    },
    {
      "cell_type": "code",
      "metadata": {
        "id": "GlzRau1NXHlV"
      },
      "source": [
        "dataset = pd.read_csv('dataset', delimiter = '\\t', quoting = 3)"
      ],
      "execution_count": 3,
      "outputs": []
    },
    {
      "cell_type": "code",
      "metadata": {
        "id": "SLRrDAZcXlMA"
      },
      "source": [
        "import re\r\n",
        "import nltk\r\n",
        "nltk.download('stopwords')\r\n",
        "from nltk.corpus import stopwords\r\n",
        "from nltk.stem.porter import PorterStemmer\r\n",
        "news = []\r\n",
        "for i in range (0, 1000):\r\n",
        "  text = re.sub('[^a-zA-Z]', ' ', dataset['news'][i])\r\n",
        "  text = text.lower()\r\n",
        "  text = text.split()\r\n",
        "  ps = PorterStemmer()\r\n",
        "  text = [ps.stem(word) for word in text if not word in set(stopwords.words('english'))]\r\n",
        "  text = ' '.join(text)\r\n",
        "  news.append(text)\r\n"
      ],
      "execution_count": null,
      "outputs": []
    },
    {
      "cell_type": "code",
      "metadata": {
        "id": "Gw9-sS0ybpcT"
      },
      "source": [
        "print(news)"
      ],
      "execution_count": null,
      "outputs": []
    },
    {
      "cell_type": "code",
      "metadata": {
        "id": "sDH0dNwy5nv5"
      },
      "source": [
        "from sklearn.feature_extraction.text import CountVectorizer\r\n",
        "cv = CountVectorizer()\r\n",
        "X = cv.fit_transform(news).toarray()\r\n",
        "y = dataset.iloc[:, -1].values"
      ],
      "execution_count": 6,
      "outputs": []
    },
    {
      "cell_type": "code",
      "metadata": {
        "id": "L6lRXe0lCjF8"
      },
      "source": [
        "len(X[0])"
      ],
      "execution_count": null,
      "outputs": []
    },
    {
      "cell_type": "code",
      "metadata": {
        "id": "Z4k5LH4BBcwg"
      },
      "source": [
        "from sklearn.model_selection import train_test_split\r\n",
        "X_train, X_test, y_train, y_test = train_test_split(X, y, test_size = 0.2, random_state = 0)"
      ],
      "execution_count": 10,
      "outputs": []
    },
    {
      "cell_type": "markdown",
      "metadata": {
        "id": "_cnK3oo2Hql9"
      },
      "source": [
        "Using naive bayes ( just a simple sample )\r\n"
      ]
    },
    {
      "cell_type": "code",
      "metadata": {
        "id": "B0-OTgdvCzkU"
      },
      "source": [
        "from sklearn.naive_bayes import GaussianNB\r\n",
        "classifier = GaussianNB()\r\n",
        "classifier.fit(X_train, y_train)"
      ],
      "execution_count": null,
      "outputs": []
    },
    {
      "cell_type": "markdown",
      "metadata": {
        "id": "6ep-CR6eH4af"
      },
      "source": [
        "To print prediction and actual annotation side by side"
      ]
    },
    {
      "cell_type": "code",
      "metadata": {
        "id": "bN4wV5DLDG7K"
      },
      "source": [
        "y_pred = classifier.predict(X_test)\r\n",
        "print(np.concatenate((y_pred.reshape(len(y_pred), 1), y_test.reshape(len(y_test), 1)), 1))"
      ],
      "execution_count": null,
      "outputs": []
    },
    {
      "cell_type": "code",
      "metadata": {
        "id": "8pnLs0GrEfIh"
      },
      "source": [
        "for i in range (0, len(y_pred)):\r\n",
        "  if y_pred[i] == y_test[i]:\r\n",
        "    print(\"Correct prediction\")\r\n",
        "  else:\r\n",
        "    print(\"incorrect prediciton\")\r\n"
      ],
      "execution_count": null,
      "outputs": []
    },
    {
      "cell_type": "code",
      "metadata": {
        "id": "P6sL-rtsGEMe"
      },
      "source": [
        "from sklearn.metrics import accuracy_score\r\n",
        "print(accuracy_score(y_test, y_pred)*100,\"%\")"
      ],
      "execution_count": null,
      "outputs": []
    }
  ]
}