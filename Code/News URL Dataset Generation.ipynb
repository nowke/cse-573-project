{
 "cells": [
  {
   "cell_type": "markdown",
   "metadata": {},
   "source": [
    "# News URL Dataset Generation\n",
    "\n",
    "From datasets extracted using Twitter API, get all the URLs for further scraping"
   ]
  },
  {
   "cell_type": "code",
   "execution_count": 51,
   "metadata": {},
   "outputs": [],
   "source": [
    "import csv\n",
    "from pathlib import Path"
   ]
  },
  {
   "cell_type": "code",
   "execution_count": 52,
   "metadata": {},
   "outputs": [],
   "source": [
    "STOCK = \"NFLX\""
   ]
  },
  {
   "cell_type": "code",
   "execution_count": 53,
   "metadata": {},
   "outputs": [],
   "source": [
    "tweet_files = Path(f\"../Datasets/Twitter Data/{STOCK}\").glob(\"*.csv\")\n",
    "news = []\n",
    "\n",
    "for tweet_file in sorted(tweet_files):\n",
    "    with open(tweet_file, 'r') as csvfile:\n",
    "        reader = csv.DictReader(\n",
    "            csvfile, \n",
    "            fieldnames=['time', 'id', 'text', 'url', 'user_id', 'user_name']\n",
    "        )\n",
    "        for row in reader:\n",
    "            if row['url']:\n",
    "                news.append({\n",
    "                    'url': row['url'],\n",
    "                    'time': row['time']\n",
    "                })"
   ]
  },
  {
   "cell_type": "code",
   "execution_count": 54,
   "metadata": {},
   "outputs": [
    {
     "data": {
      "text/plain": [
       "{'url': 'https://www.cnbc.com/2021/04/05/gamestop-plummets-after-reddit-favorite-plans-1-billion-stock-sale.html',\n",
       " 'time': '2021-04-08 23:56:05'}"
      ]
     },
     "execution_count": 54,
     "metadata": {},
     "output_type": "execute_result"
    }
   ],
   "source": [
    "news[0]"
   ]
  },
  {
   "cell_type": "code",
   "execution_count": 55,
   "metadata": {},
   "outputs": [],
   "source": [
    "target = Path(f\"../Datasets/Twitter URL/{STOCK}.csv\") \n",
    "\n",
    "with open(target, 'w') as f:\n",
    "    fieldnames = ['time', 'url']\n",
    "    writer = csv.DictWriter(f, fieldnames=fieldnames)\n",
    "    writer.writeheader()\n",
    "    \n",
    "    for item in news:\n",
    "        writer.writerow(item)"
   ]
  },
  {
   "cell_type": "code",
   "execution_count": 56,
   "metadata": {},
   "outputs": [],
   "source": [
    "ALLOW_LIST = [\n",
    "    \"https://www.thestreet.com/\",\n",
    "    \"https://newsfilter.io\",\n",
    "    \"https://www.theverge.com\",\n",
    "    \"https://www.bulldude.com/\",\n",
    "    \"https://www.techradar.com\",\n",
    "    \"https://reut.rs\",\n",
    "    \"https://www.cnbc.com\",\n",
    "    \"https://www.businesswire.com\",\n",
    "    \"http://micabear.com\",\n",
    "    \"https://cloud.iexapis.com\",\n",
    "    \"https://talkmarkets.com\",\n",
    "    \"https://amp.theguardian.com\",\n",
    "    \"https://theguardian.com\",\n",
    "    \"https://finance.yahoo.com\",\n",
    "    \"https://www.wyattresearch.com\",\n",
    "    \"https://www.benzinga.com\",\n",
    "    \"https://cnb.cx\",\n",
    "    \"https://www.nytimes.com\",\n",
    "    \"https://www.cnet.com/\",\n",
    "    \"https://www.bnnbloomberg.ca\",\n",
    "    \"http://www.cmlviz.com\",\n",
    "    \"https://seekingalpha.com\",\n",
    "    \"https://www.macrumors.com\",\n",
    "    \"https://www.geekwire.com/\",\n",
    "    \"https://www.nbcnews.co\",\n",
    "    \"https://www.cnn.com\",\n",
    "    \"https://www.forbes.com\",\n",
    "]"
   ]
  },
  {
   "cell_type": "code",
   "execution_count": 57,
   "metadata": {},
   "outputs": [],
   "source": [
    "target = Path(f\"../Datasets/Twitter URL/{STOCK}-filtered.csv\") \n",
    "\n",
    "with open(target, 'w') as f:\n",
    "    fieldnames = ['time', 'url']\n",
    "    writer = csv.DictWriter(f, fieldnames=fieldnames)\n",
    "    writer.writeheader()\n",
    "    \n",
    "    for item in news:\n",
    "        if any([item['url'].startswith(x) for x in ALLOW_LIST]):\n",
    "            writer.writerow(item)"
   ]
  },
  {
   "cell_type": "code",
   "execution_count": null,
   "metadata": {},
   "outputs": [],
   "source": []
  }
 ],
 "metadata": {
  "kernelspec": {
   "display_name": "Python 3",
   "language": "python",
   "name": "python3"
  },
  "language_info": {
   "codemirror_mode": {
    "name": "ipython",
    "version": 3
   },
   "file_extension": ".py",
   "mimetype": "text/x-python",
   "name": "python",
   "nbconvert_exporter": "python",
   "pygments_lexer": "ipython3",
   "version": "3.8.5"
  }
 },
 "nbformat": 4,
 "nbformat_minor": 4
}
