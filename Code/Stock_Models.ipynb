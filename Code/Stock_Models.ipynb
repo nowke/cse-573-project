{
  "nbformat": 4,
  "nbformat_minor": 0,
  "metadata": {
    "accelerator": "GPU",
    "colab": {
      "name": "Stock - Models.ipynb",
      "provenance": [],
      "collapsed_sections": [],
      "toc_visible": true
    },
    "kernelspec": {
      "display_name": "Python 3",
      "name": "python3"
    },
    "language_info": {
      "name": "python"
    }
  },
  "cells": [
    {
      "cell_type": "markdown",
      "metadata": {
        "id": "hjDvoWxzRMVF"
      },
      "source": [
        "# Stock Prediction Models\n",
        "\n",
        "## 1. Preprocessing"
      ]
    },
    {
      "cell_type": "code",
      "metadata": {
        "id": "8Ys_1XvrRFXs"
      },
      "source": [
        "DATASET_PATH = \"/content/drive/MyDrive/4th Sem/CSE 573 - SWM/CSE 573 Project/DataSets/Extract\"\n",
        "# DATASET_PATH = \"/content/drive/MyDrive/4th Sem/CSE 573 - SWM/Test Datasets\""
      ],
      "execution_count": null,
      "outputs": []
    },
    {
      "cell_type": "code",
      "metadata": {
        "colab": {
          "base_uri": "https://localhost:8080/"
        },
        "id": "-8nZyv_WRcj5",
        "outputId": "16e42418-0f6b-4ae0-d090-78f2b262a977"
      },
      "source": [
        "import csv\n",
        "import pandas as pd\n",
        "import numpy as np\n",
        "import re\n",
        "\n",
        "import nltk\n",
        "nltk.download('stopwords')\n",
        "from nltk.corpus import stopwords\n",
        "from nltk.stem.porter import PorterStemmer"
      ],
      "execution_count": null,
      "outputs": [
        {
          "output_type": "stream",
          "text": [
            "[nltk_data] Downloading package stopwords to /root/nltk_data...\n",
            "[nltk_data]   Package stopwords is already up-to-date!\n"
          ],
          "name": "stdout"
        }
      ]
    },
    {
      "cell_type": "markdown",
      "metadata": {
        "id": "9M7l2RiaRc_N"
      },
      "source": [
        "### Import dataset"
      ]
    },
    {
      "cell_type": "code",
      "metadata": {
        "id": "ohvxpxvsRShe"
      },
      "source": [
        "# NEWS_GROUP = \"NewsGroupTime_240\"\n",
        "# DATASET_NAME = \"Amazon240.csv\"\n",
        "# DATASET = f\"{DATASET_PATH}/{NEWS_GROUP}/{DATASET_NAME}\"\n",
        "DATASET = f\"{DATASET_PATH}/Train_Data/Para_News240_Combined240.csv\""
      ],
      "execution_count": null,
      "outputs": []
    },
    {
      "cell_type": "code",
      "metadata": {
        "id": "yrdgCWmeRTRY"
      },
      "source": [
        "df = pd.read_csv(DATASET)"
      ],
      "execution_count": null,
      "outputs": []
    },
    {
      "cell_type": "code",
      "metadata": {
        "colab": {
          "base_uri": "https://localhost:8080/",
          "height": 204
        },
        "id": "UpQuw0MZvNAN",
        "outputId": "8304507b-e098-405d-d857-0df7a267b643"
      },
      "source": [
        "df.head()"
      ],
      "execution_count": null,
      "outputs": [
        {
          "output_type": "execute_result",
          "data": {
            "text/html": [
              "<div>\n",
              "<style scoped>\n",
              "    .dataframe tbody tr th:only-of-type {\n",
              "        vertical-align: middle;\n",
              "    }\n",
              "\n",
              "    .dataframe tbody tr th {\n",
              "        vertical-align: top;\n",
              "    }\n",
              "\n",
              "    .dataframe thead th {\n",
              "        text-align: right;\n",
              "    }\n",
              "</style>\n",
              "<table border=\"1\" class=\"dataframe\">\n",
              "  <thead>\n",
              "    <tr style=\"text-align: right;\">\n",
              "      <th></th>\n",
              "      <th>Source</th>\n",
              "      <th>DateTime</th>\n",
              "      <th>News</th>\n",
              "      <th>Movement</th>\n",
              "      <th>Stock</th>\n",
              "    </tr>\n",
              "  </thead>\n",
              "  <tbody>\n",
              "    <tr>\n",
              "      <th>0</th>\n",
              "      <td>seekingalpha.com</td>\n",
              "      <td>2017-12-14 11:42:00+00:00</td>\n",
              "      <td>Bearish Calls Lumentum (NASDAQ: LITE ): It's a...</td>\n",
              "      <td>1</td>\n",
              "      <td>Apple</td>\n",
              "    </tr>\n",
              "    <tr>\n",
              "      <th>1</th>\n",
              "      <td>seekingalpha.com</td>\n",
              "      <td>2017-12-14 12:31:00+00:00</td>\n",
              "      <td>The areas to be concerned are that there are f...</td>\n",
              "      <td>1</td>\n",
              "      <td>Apple</td>\n",
              "    </tr>\n",
              "    <tr>\n",
              "      <th>2</th>\n",
              "      <td>seekingalpha.com</td>\n",
              "      <td>2017-12-15 12:04:00+00:00</td>\n",
              "      <td>Amazon will soon resume selling the Apple TV (...</td>\n",
              "      <td>1</td>\n",
              "      <td>Apple</td>\n",
              "    </tr>\n",
              "    <tr>\n",
              "      <th>3</th>\n",
              "      <td>seekingalpha.com</td>\n",
              "      <td>2017-12-15 12:04:00+00:00</td>\n",
              "      <td>Amazon will soon resume selling the Apple TV (...</td>\n",
              "      <td>1</td>\n",
              "      <td>Amazon</td>\n",
              "    </tr>\n",
              "    <tr>\n",
              "      <th>4</th>\n",
              "      <td>seekingalpha.com</td>\n",
              "      <td>2017-12-21 12:04:00+00:00</td>\n",
              "      <td>Walmart is experimenting with a cashier-less s...</td>\n",
              "      <td>-1</td>\n",
              "      <td>Amazon</td>\n",
              "    </tr>\n",
              "  </tbody>\n",
              "</table>\n",
              "</div>"
            ],
            "text/plain": [
              "             Source                   DateTime  ... Movement   Stock\n",
              "0  seekingalpha.com  2017-12-14 11:42:00+00:00  ...        1   Apple\n",
              "1  seekingalpha.com  2017-12-14 12:31:00+00:00  ...        1   Apple\n",
              "2  seekingalpha.com  2017-12-15 12:04:00+00:00  ...        1   Apple\n",
              "3  seekingalpha.com  2017-12-15 12:04:00+00:00  ...        1  Amazon\n",
              "4  seekingalpha.com  2017-12-21 12:04:00+00:00  ...       -1  Amazon\n",
              "\n",
              "[5 rows x 5 columns]"
            ]
          },
          "metadata": {
            "tags": []
          },
          "execution_count": 634
        }
      ]
    },
    {
      "cell_type": "code",
      "metadata": {
        "id": "oBC7XVWNRkRI"
      },
      "source": [
        "data = df.copy()\n",
        "data.drop(['Source'], axis=1, inplace=True)\n",
        "data['Label'] = np.where(data['Movement'] == 1, 1, 0)\n",
        "# data['DateTime'] = ''\n",
        "sentences = data['News'].values\n",
        "labels = data['Label'].values\n",
        "# sentences = data['text'].values\n",
        "# labels = data['label'].values\n",
        "times = data['DateTime'].values\n",
        "stocks = data['Stock'].values"
      ],
      "execution_count": null,
      "outputs": []
    },
    {
      "cell_type": "code",
      "metadata": {
        "id": "dJVqdJqRRtQi"
      },
      "source": [
        "def preprocess(sentence):\n",
        "    result = re.sub('[^a-zA-Z]', ' ', sentence)\n",
        "    result = result.lower()\n",
        "    result = result.split()\n",
        "    \n",
        "    ps = PorterStemmer()\n",
        "    stopSet = set(stopwords.words('english')) \n",
        "    result = [ps.stem(word) for word in result if not word in stopSet]\n",
        "    result = ' '.join(result)\n",
        "    return result"
      ],
      "execution_count": null,
      "outputs": []
    },
    {
      "cell_type": "code",
      "metadata": {
        "colab": {
          "base_uri": "https://localhost:8080/"
        },
        "id": "jDBGzV3r8IEI",
        "outputId": "35ed3830-11f9-4974-839f-74a3cbf24a27"
      },
      "source": [
        "len(sentences)"
      ],
      "execution_count": null,
      "outputs": [
        {
          "output_type": "execute_result",
          "data": {
            "text/plain": [
              "22548"
            ]
          },
          "metadata": {
            "tags": []
          },
          "execution_count": 637
        }
      ]
    },
    {
      "cell_type": "code",
      "metadata": {
        "id": "prTPfUzWR_KV",
        "colab": {
          "base_uri": "https://localhost:8080/"
        },
        "outputId": "739beb60-c089-4f1b-b987-5d08e4613e28"
      },
      "source": [
        "news = []\n",
        "for i, sentence in enumerate(sentences):\n",
        "    if i % 1000 == 0:\n",
        "        print(\"Completed\", i)\n",
        "    news.append(preprocess(sentence))\n",
        "# news = sentences"
      ],
      "execution_count": null,
      "outputs": [
        {
          "output_type": "stream",
          "text": [
            "Completed 0\n",
            "Completed 1000\n",
            "Completed 2000\n",
            "Completed 3000\n",
            "Completed 4000\n",
            "Completed 5000\n",
            "Completed 6000\n",
            "Completed 7000\n",
            "Completed 8000\n",
            "Completed 9000\n",
            "Completed 10000\n",
            "Completed 11000\n",
            "Completed 12000\n",
            "Completed 13000\n",
            "Completed 14000\n",
            "Completed 15000\n",
            "Completed 16000\n",
            "Completed 17000\n",
            "Completed 18000\n",
            "Completed 19000\n",
            "Completed 20000\n",
            "Completed 21000\n",
            "Completed 22000\n"
          ],
          "name": "stdout"
        }
      ]
    },
    {
      "cell_type": "code",
      "metadata": {
        "id": "y32UkHJZTf3G",
        "colab": {
          "base_uri": "https://localhost:8080/",
          "height": 52
        },
        "outputId": "84981e8c-fb14-49aa-91c1-0ffc885902db"
      },
      "source": [
        "news[0]"
      ],
      "execution_count": null,
      "outputs": [
        {
          "output_type": "execute_result",
          "data": {
            "application/vnd.google.colaboratory.intrinsic+json": {
              "type": "string"
            },
            "text/plain": [
              "'bearish call lumentum nasdaq lite dicey stock cramer prefer finisar nasdaq fnsr appl nasdaq aapl invest snap nyse snap cramer fan'"
            ]
          },
          "metadata": {
            "tags": []
          },
          "execution_count": 32
        }
      ]
    },
    {
      "cell_type": "markdown",
      "metadata": {
        "id": "LaQHiistUSWl"
      },
      "source": [
        "## 2. Feature Extraction"
      ]
    },
    {
      "cell_type": "code",
      "metadata": {
        "id": "XKDEa2DeTkxS"
      },
      "source": [
        "from sklearn.decomposition import PCA\n",
        "from sklearn.decomposition import TruncatedSVD\n",
        "from sklearn.feature_extraction.text import CountVectorizer, TfidfVectorizer, HashingVectorizer\n",
        "from sklearn.feature_extraction.text import TfidfTransformer\n",
        "from sklearn.model_selection import train_test_split, cross_validate, GridSearchCV"
      ],
      "execution_count": null,
      "outputs": []
    },
    {
      "cell_type": "code",
      "metadata": {
        "id": "eoZtLHGaUWUE"
      },
      "source": [
        "vectorizer = CountVectorizer(max_features=12500, ngram_range=(2, 2))\n",
        "# vectorizer = TfidfVectorizer(max_features=5000)\n",
        "# vectorizer = HashingVectorizer()"
      ],
      "execution_count": null,
      "outputs": []
    },
    {
      "cell_type": "code",
      "metadata": {
        "id": "UsOiewT4cUdM"
      },
      "source": [
        "# vect = vectorizer.fit(news)\n",
        "# vectorized = vect.transform(news)\n",
        "\n",
        "# svd = TruncatedSVD(n_components=5, random_state=42)\n",
        "\n",
        "# X = svd.fit_transform(vectorized)\n",
        "f = vectorizer.fit(news)\n",
        "# tfidf_transformer = TfidfTransformer()\n",
        "\n",
        "# X = tfidf_transformer.fit_transform(news_count)\n",
        "X = f.transform(news)\n",
        "Y = np.array([\n",
        "    [times[i], labels[i], stocks[i]]\n",
        "    for i, _ in enumerate(labels)   \n",
        "])"
      ],
      "execution_count": null,
      "outputs": []
    },
    {
      "cell_type": "code",
      "metadata": {
        "id": "hHS2Yt0PUfDP"
      },
      "source": [
        "X_train, X_test, y_train, y_test = train_test_split(X, Y, test_size = 0.2)\n",
        "\n",
        "y_train_labels = y_train[:,1:2]\n",
        "y_train_times  = [x[0] for x in y_train[:,0:1]]\n",
        "y_train_stocks = [x[0] for x in y_train[:,2:3]]\n",
        "y_train = np.array([int(x[0]) for x in y_train_labels])\n",
        "\n",
        "y_test_labels  = y_test[:,1:2]\n",
        "y_test_times   = [x[0] for x in y_test[:,0:1]]\n",
        "y_test_stocks = [x[0] for x in y_test[:,2:3]]\n",
        "y_test = np.array([int(x[0]) for x in y_test_labels])"
      ],
      "execution_count": null,
      "outputs": []
    },
    {
      "cell_type": "markdown",
      "metadata": {
        "id": "zeZ_91FeVE5e"
      },
      "source": [
        "## 3. Training"
      ]
    },
    {
      "cell_type": "code",
      "metadata": {
        "id": "tVkHDNKSU2jz"
      },
      "source": [
        "from sklearn.model_selection import train_test_split, cross_validate, GridSearchCV, cross_val_score\n",
        "from sklearn.naive_bayes import MultinomialNB, GaussianNB\n",
        "from sklearn.tree import DecisionTreeClassifier\n",
        "from sklearn.ensemble import RandomForestClassifier, AdaBoostClassifier, VotingClassifier\n",
        "from sklearn.linear_model import LogisticRegression\n",
        "from sklearn.neural_network import MLPClassifier\n",
        "from sklearn.svm import SVC\n",
        "import xgboost as xgb"
      ],
      "execution_count": null,
      "outputs": []
    },
    {
      "cell_type": "code",
      "metadata": {
        "id": "lcbaka0ZWCc_"
      },
      "source": [
        "param = {'max_depth': 10, 'eta': 1, 'objective': 'binary:logistic'}\n",
        "param['nthread'] = 4\n",
        "param['eval_metric'] = 'auc'\n",
        "param['reg_lambda'] = 1\n",
        "# param['n_estimators'] = 50"
      ],
      "execution_count": null,
      "outputs": []
    },
    {
      "cell_type": "code",
      "metadata": {
        "id": "1QJfMHCxWJu1"
      },
      "source": [
        "# clf = xgb.XGBClassifier(**param)\n",
        "# clf = DecisionTreeClassifier()\n",
        "# clf = SVC(gamma='auto')\n",
        "# clf = MultinomialNB()\n",
        "clf = RandomForestClassifier(n_estimators=10)\n",
        "# clf = AdaBoostClassifier(n_estimators=100)\n",
        "# clf = LogisticRegression()\n",
        "# clf = MLPClassifier(solver='lbfgs', alpha=1e-5,hidden_layer_sizes=(5, 2))"
      ],
      "execution_count": null,
      "outputs": []
    },
    {
      "cell_type": "code",
      "metadata": {
        "colab": {
          "base_uri": "https://localhost:8080/"
        },
        "id": "9r7NCNd6Zemh",
        "outputId": "bfce332f-817b-4ef2-e654-eea9d3f7ac6e"
      },
      "source": [
        "clf.fit(X_train, y_train)"
      ],
      "execution_count": null,
      "outputs": [
        {
          "output_type": "execute_result",
          "data": {
            "text/plain": [
              "RandomForestClassifier(bootstrap=True, ccp_alpha=0.0, class_weight=None,\n",
              "                       criterion='gini', max_depth=None, max_features='auto',\n",
              "                       max_leaf_nodes=None, max_samples=None,\n",
              "                       min_impurity_decrease=0.0, min_impurity_split=None,\n",
              "                       min_samples_leaf=1, min_samples_split=2,\n",
              "                       min_weight_fraction_leaf=0.0, n_estimators=10,\n",
              "                       n_jobs=None, oob_score=False, random_state=None,\n",
              "                       verbose=0, warm_start=False)"
            ]
          },
          "metadata": {
            "tags": []
          },
          "execution_count": 646
        }
      ]
    },
    {
      "cell_type": "markdown",
      "metadata": {
        "id": "1NfzzvI3ZwIb"
      },
      "source": [
        "## 4. Evaluation"
      ]
    },
    {
      "cell_type": "code",
      "metadata": {
        "id": "K3C8SpLPZx9B"
      },
      "source": [
        "from sklearn.metrics import confusion_matrix , accuracy_score, f1_score, roc_auc_score, classification_report"
      ],
      "execution_count": null,
      "outputs": []
    },
    {
      "cell_type": "code",
      "metadata": {
        "id": "4dZ7D1zWZkRF"
      },
      "source": [
        "y_pred = clf.predict(X_test)"
      ],
      "execution_count": null,
      "outputs": []
    },
    {
      "cell_type": "code",
      "metadata": {
        "id": "pREFFSJEZrU5",
        "colab": {
          "base_uri": "https://localhost:8080/"
        },
        "outputId": "ecf26e68-d651-47aa-baf9-c1ba77dc8af1"
      },
      "source": [
        "accuracy_score(y_test, y_pred)"
      ],
      "execution_count": null,
      "outputs": [
        {
          "output_type": "execute_result",
          "data": {
            "text/plain": [
              "0.6068736141906874"
            ]
          },
          "metadata": {
            "tags": []
          },
          "execution_count": 649
        }
      ]
    },
    {
      "cell_type": "code",
      "metadata": {
        "colab": {
          "base_uri": "https://localhost:8080/"
        },
        "id": "SmcDCz-Itob5",
        "outputId": "1664c3f4-5c72-4584-deb0-284ab899b3c2"
      },
      "source": [
        "confusion_matrix(y_test, y_pred)"
      ],
      "execution_count": null,
      "outputs": [
        {
          "output_type": "execute_result",
          "data": {
            "text/plain": [
              "array([[1662,  735],\n",
              "       [1038, 1075]])"
            ]
          },
          "metadata": {
            "tags": []
          },
          "execution_count": 650
        }
      ]
    },
    {
      "cell_type": "code",
      "metadata": {
        "colab": {
          "base_uri": "https://localhost:8080/"
        },
        "id": "9vGB_CNCwkaz",
        "outputId": "702e72d3-d200-4362-ae8f-85ae8e8e706a"
      },
      "source": [
        "print(classification_report(y_test, y_pred))"
      ],
      "execution_count": null,
      "outputs": [
        {
          "output_type": "stream",
          "text": [
            "              precision    recall  f1-score   support\n",
            "\n",
            "           0       0.62      0.69      0.65      2397\n",
            "           1       0.59      0.51      0.55      2113\n",
            "\n",
            "    accuracy                           0.61      4510\n",
            "   macro avg       0.60      0.60      0.60      4510\n",
            "weighted avg       0.61      0.61      0.60      4510\n",
            "\n"
          ],
          "name": "stdout"
        }
      ]
    },
    {
      "cell_type": "markdown",
      "metadata": {
        "id": "Wr8pjZKgem_m"
      },
      "source": [
        "## 5. Save predictions"
      ]
    },
    {
      "cell_type": "code",
      "metadata": {
        "id": "84JJKScLZ1WH"
      },
      "source": [
        "with open(\"Para_News15_Combined_15_Predictions_DT_TFIDF.csv\", \"w\") as csvfile:\n",
        "    writer = csv.DictWriter(csvfile, ['DateTime', 'Stock', 'PredictedMovement', 'ActualMovement'])\n",
        "    writer.writeheader()\n",
        "\n",
        "    for i, _ in enumerate(y_pred):\n",
        "        label = y_pred[i]\n",
        "        actual = y_test[i]\n",
        "        item = {\n",
        "            \"DateTime\": y_test_times[i],\n",
        "            \"Stock\": y_test_stocks[i],\n",
        "            \"PredictedMovement\": -1 if label == 0 else 1,\n",
        "            \"ActualMovement\": -1 if actual == 0 else 1\n",
        "        }\n",
        "        writer.writerow(item)"
      ],
      "execution_count": null,
      "outputs": []
    },
    {
      "cell_type": "code",
      "metadata": {
        "id": "6ZYtUetaGQW0"
      },
      "source": [
        ""
      ],
      "execution_count": null,
      "outputs": []
    },
    {
      "cell_type": "markdown",
      "metadata": {
        "id": "i5Qx1Ivr8spm"
      },
      "source": [
        "## 6. Custom test"
      ]
    },
    {
      "cell_type": "code",
      "metadata": {
        "id": "cqFMJTnjelCg"
      },
      "source": [
        "CUSTOM_DATA = \"Apple60_Major.csv\"\n",
        "df = pd.read_csv(CUSTOM_DATA)\n",
        "data = df.copy()\n",
        "data.drop(['Source'], axis=1, inplace=True)\n",
        "data['Label'] = np.where(data['Movement'] == 1, 1, 0)\n",
        "# data['DateTime'] = ''\n",
        "sentences = data['News'].values\n",
        "labels = data['Label'].values"
      ],
      "execution_count": null,
      "outputs": []
    },
    {
      "cell_type": "code",
      "metadata": {
        "id": "oWj4H5Bq9FGC"
      },
      "source": [
        "x_test = [preprocess(x) for x in sentences]\n",
        "x_test = f.transform(x_test)\n",
        "y_test = np.array(labels)\n",
        "x_test.shape, y_test.shape"
      ],
      "execution_count": null,
      "outputs": []
    },
    {
      "cell_type": "code",
      "metadata": {
        "id": "V4dy1ixa9b7L"
      },
      "source": [
        "y_pred = clf.predict(x_test)"
      ],
      "execution_count": null,
      "outputs": []
    },
    {
      "cell_type": "code",
      "metadata": {
        "id": "N_6_-b1A9jML"
      },
      "source": [
        "accuracy_score(y_test, y_pred)"
      ],
      "execution_count": null,
      "outputs": []
    },
    {
      "cell_type": "code",
      "metadata": {
        "id": "vVhcBbXr-6T2"
      },
      "source": [
        ""
      ],
      "execution_count": null,
      "outputs": []
    },
    {
      "cell_type": "code",
      "metadata": {
        "id": "yqzHAmjv0CZ7"
      },
      "source": [
        "sample = \"\"\"\n",
        "Starting next year, all movies released by Sony Pictures will stream exclusively on Netflix after their theatrical and home entertainment releases.\n",
        "\n",
        "The deal, which was announced Thursday, includes films such as “Morbius,” “Uncharted” and “Bullet Train.”\n",
        "\n",
        "Netflix will also be able to place films such as “Spider-Man: Into the Spider-Verse” and future Venom and other Spider-Man films on its platform. Franchises such as Jumanji and Bad Boys are also included in the deal. Netflix will also have access to other titles from Sony’s movie library.\n",
        "\n",
        "As part of this partnership, Sony will offer Netflix a first look at any films it plans on taking directly to streaming or decides to later license to streaming. Netflix has committed to make a number of these films over the course of the deal.\n",
        "\n",
        "The length of the deal and its financials were not disclosed by the two companies.\n",
        "\"\"\"\n",
        "\n",
        "# sample = \"\"\"\n",
        "# Fears of weakness at Apple Inc. proved true Wednesday.\n",
        "\n",
        "# The tech giant, which became the only public U.S. company to reach a $1 trillion valuation last year before a fourth-quarter collapse for its shares, confirmed the fears that led to the stock decline by lowering its forecast Wednesday afternoon. In a letter to shareholders, Chief Executive Tim Cook said that Apple will report much lower sales than previously expected, largely due to slowing iPhone sales and pressure in China.\n",
        "\n",
        "# “While we anticipated some challenges in key emerging markets, we did not foresee the magnitude of the economic deceleration, particularly in Greater China,” Cook wrote. “In fact, most of our revenue shortfall to our guidance, and over 100% of our year-over-year world-wide revenue decline, occurred in Greater China across iPhone, Mac and iPad.”\n",
        "\n",
        "# Apple’s AAPL, +2.02%  stock was halted in after-hours trading ahead of the announcement, then fell 7.6% in extended trading on volume of more than 6 million shares, the highest after-hours volume for an S&P 500 index stock Wednesday. The stock has dropped 31.1% in the past three months, as the S&P 500 SPX, +0.77%  has declined 14.3%.\n",
        "\n",
        "# Other tech stocks fell in late trading after the Apple news hit. Apple suppliers were especially targeted, with Skyworks Solutions Inc. SWKS, -0.49%  and Qorvo Inc. QRVO, -0.86%  more than 5% and Broadcom Inc. AVGO, -0.08%  dropping 4.7%. Other members of the so-called “FAANG” grouping of tech stocks also declined: Amazon.com Inc. AMZN, +2.21%  dropped 2.8%, Facebook Inc. FB, -0.18%  was down 1.6%, Alphabet Inc. GOOG, +0.90%   GOOGL, +0.90%  declined 2.1%, and Netflix Inc. NFLX, +0.13%   declined 2.5%. Microsoft Corp. MSFT, +1.03%  , which took the title as most valuable public company in the U.S. from Apple late last year, fell 2.1%, while PC manufacturer HP Inc. HPQ, +1.85%  dropped 4.5%. Chip makers Nvidia Corp. NVDA, +0.58%   and Micron Technology Inc. MU, +0.01%  saw shares decline more than 3%. The selloff affected U.S. stock futures as well, with Dow, S&P 500 and Nasdaq futures all sinking more than 1% late Wednesday.\n",
        "\n",
        "# Cook said that Apple now expects fiscal first-quarter revenue of about $84 billion, after previously stating expectations for sales of $89 billion to $93 billion. Apple shares have been pressured since the company originally gave its revenue forecast for the holiday season, as suppliers have reined in forecasts, causing doubts about the company’s iPhone sales.\n",
        "\n",
        "# “Lower than anticipated iPhone revenue, primarily in Greater China, accounts for all of our revenue shortfall to our guidance and for much more than our entire year-over-year revenue decline,” Cook said Wednesday in his letter.\n",
        "\n",
        "# China is not the only issue with iPhone sales, however, as Cook admitted later in his letter.\n",
        "\n",
        "# “While macroeconomic challenges in some markets were a key contributor to this trend, we believe there are other factors broadly impacting our iPhone performance, including consumers adapting to a world with fewer carrier subsidies, U.S. dollar strength-related price increases, and some customers taking advantage of significantly reduced pricing for iPhone battery replacements.”\n",
        "# \"\"\"\n",
        "\n",
        "sample = \"\"\"\n",
        "Romeo Power, Inc. (\"Romeo Power\") (NYSE: RMO), an energy technology leader delivering large-scale electrification solutions for complex commercial applications, announced today a long-term supply agreement with PACCAR (Nasdaq: PCAR), a global technology leader in the design, manufacture and customer support of high-quality light-, medium- and heavy-duty trucks under the Kenworth, Peterbilt and DAF nameplates, to provide battery packs, modules and battery management systems (BMS) for PACCAR’s battery electric vehicles (BEVs).\n",
        "\"\"\""
      ],
      "execution_count": null,
      "outputs": []
    },
    {
      "cell_type": "code",
      "metadata": {
        "colab": {
          "base_uri": "https://localhost:8080/",
          "height": 69
        },
        "id": "i4iLQdpp0Fh2",
        "outputId": "4eb028bd-1b86-4584-87ac-9422ee7c63dd"
      },
      "source": [
        "sample_news = preprocess(sample)\n",
        "sample_news"
      ],
      "execution_count": null,
      "outputs": [
        {
          "output_type": "execute_result",
          "data": {
            "application/vnd.google.colaboratory.intrinsic+json": {
              "type": "string"
            },
            "text/plain": [
              "'paccar commit industri lead qualiti innov said darrin siver paccar senior vice presid romeo power batteri technolog solut enabl paccar deliv state art transport solut enhanc custom oper environment impact pleas enter long term suppli agreement romeo power pave way cost effect electrif within commerci vehicl sector'"
            ]
          },
          "metadata": {
            "tags": []
          },
          "execution_count": 677
        }
      ]
    },
    {
      "cell_type": "code",
      "metadata": {
        "id": "_IrA9q3f0IOH"
      },
      "source": [
        "x_test = f.transform([sample_news])"
      ],
      "execution_count": null,
      "outputs": []
    },
    {
      "cell_type": "code",
      "metadata": {
        "colab": {
          "base_uri": "https://localhost:8080/"
        },
        "id": "2iVGpTIK0SUL",
        "outputId": "6b2f93be-b96b-4948-e292-cdf227264d66"
      },
      "source": [
        "clf.predict(x_test)"
      ],
      "execution_count": null,
      "outputs": [
        {
          "output_type": "execute_result",
          "data": {
            "text/plain": [
              "array([0])"
            ]
          },
          "metadata": {
            "tags": []
          },
          "execution_count": 679
        }
      ]
    },
    {
      "cell_type": "code",
      "metadata": {
        "id": "xzDsgh880ZyS"
      },
      "source": [
        ""
      ],
      "execution_count": null,
      "outputs": []
    }
  ]
}