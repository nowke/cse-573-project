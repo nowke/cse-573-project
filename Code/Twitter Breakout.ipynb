{
 "cells": [
  {
   "cell_type": "code",
   "execution_count": 12,
   "metadata": {},
   "outputs": [],
   "source": [
    "import csv\n",
    "from collections import defaultdict\n",
    "from pathlib import Path\n",
    "import arrow\n",
    "import seaborn as sns\n",
    "import pandas as pd\n",
    "import matplotlib.pyplot as plt\n",
    "import statistics as stat"
   ]
  },
  {
   "cell_type": "code",
   "execution_count": 15,
   "metadata": {},
   "outputs": [],
   "source": [
    "tweet_files = Path(\"/Users/nowke/projects/cse-573-project/Datasets/Twitter Data/RMO\").glob(\"*.csv\")\n",
    "bucket = defaultdict(lambda: 0)\n",
    "\n",
    "for tweet_file in sorted(tweet_files):\n",
    "    with open(tweet_file, 'r') as csvfile:\n",
    "        reader = csv.DictReader(\n",
    "            csvfile, \n",
    "            fieldnames=['time', 'id', 'text', 'url', 'user_id', 'user_name']\n",
    "        )\n",
    "        for row in reader:\n",
    "            key = arrow.get(row['time']).replace(minute=0, second=0).format()\n",
    "            bucket[key] += 1"
   ]
  },
  {
   "cell_type": "code",
   "execution_count": 16,
   "metadata": {},
   "outputs": [
    {
     "data": {
      "text/html": [
       "<div>\n",
       "<style scoped>\n",
       "    .dataframe tbody tr th:only-of-type {\n",
       "        vertical-align: middle;\n",
       "    }\n",
       "\n",
       "    .dataframe tbody tr th {\n",
       "        vertical-align: top;\n",
       "    }\n",
       "\n",
       "    .dataframe thead th {\n",
       "        text-align: right;\n",
       "    }\n",
       "</style>\n",
       "<table border=\"1\" class=\"dataframe\">\n",
       "  <thead>\n",
       "    <tr style=\"text-align: right;\">\n",
       "      <th></th>\n",
       "      <th>datetime</th>\n",
       "      <th>count</th>\n",
       "    </tr>\n",
       "  </thead>\n",
       "  <tbody>\n",
       "    <tr>\n",
       "      <th>0</th>\n",
       "      <td>2021-04-06 00:00:00+00:00</td>\n",
       "      <td>4</td>\n",
       "    </tr>\n",
       "    <tr>\n",
       "      <th>1</th>\n",
       "      <td>2021-04-06 01:00:00+00:00</td>\n",
       "      <td>1</td>\n",
       "    </tr>\n",
       "    <tr>\n",
       "      <th>2</th>\n",
       "      <td>2021-04-06 02:00:00+00:00</td>\n",
       "      <td>2</td>\n",
       "    </tr>\n",
       "    <tr>\n",
       "      <th>3</th>\n",
       "      <td>2021-04-06 04:00:00+00:00</td>\n",
       "      <td>1</td>\n",
       "    </tr>\n",
       "    <tr>\n",
       "      <th>4</th>\n",
       "      <td>2021-04-06 05:00:00+00:00</td>\n",
       "      <td>1</td>\n",
       "    </tr>\n",
       "    <tr>\n",
       "      <th>5</th>\n",
       "      <td>2021-04-06 08:00:00+00:00</td>\n",
       "      <td>1</td>\n",
       "    </tr>\n",
       "    <tr>\n",
       "      <th>6</th>\n",
       "      <td>2021-04-06 09:00:00+00:00</td>\n",
       "      <td>1</td>\n",
       "    </tr>\n",
       "    <tr>\n",
       "      <th>7</th>\n",
       "      <td>2021-04-06 10:00:00+00:00</td>\n",
       "      <td>2</td>\n",
       "    </tr>\n",
       "    <tr>\n",
       "      <th>8</th>\n",
       "      <td>2021-04-06 11:00:00+00:00</td>\n",
       "      <td>49</td>\n",
       "    </tr>\n",
       "    <tr>\n",
       "      <th>9</th>\n",
       "      <td>2021-04-06 12:00:00+00:00</td>\n",
       "      <td>79</td>\n",
       "    </tr>\n",
       "    <tr>\n",
       "      <th>10</th>\n",
       "      <td>2021-04-06 13:00:00+00:00</td>\n",
       "      <td>90</td>\n",
       "    </tr>\n",
       "    <tr>\n",
       "      <th>11</th>\n",
       "      <td>2021-04-06 14:00:00+00:00</td>\n",
       "      <td>158</td>\n",
       "    </tr>\n",
       "    <tr>\n",
       "      <th>12</th>\n",
       "      <td>2021-04-06 15:00:00+00:00</td>\n",
       "      <td>108</td>\n",
       "    </tr>\n",
       "    <tr>\n",
       "      <th>13</th>\n",
       "      <td>2021-04-06 16:00:00+00:00</td>\n",
       "      <td>82</td>\n",
       "    </tr>\n",
       "    <tr>\n",
       "      <th>14</th>\n",
       "      <td>2021-04-06 17:00:00+00:00</td>\n",
       "      <td>127</td>\n",
       "    </tr>\n",
       "    <tr>\n",
       "      <th>15</th>\n",
       "      <td>2021-04-06 18:00:00+00:00</td>\n",
       "      <td>294</td>\n",
       "    </tr>\n",
       "    <tr>\n",
       "      <th>16</th>\n",
       "      <td>2021-04-06 19:00:00+00:00</td>\n",
       "      <td>380</td>\n",
       "    </tr>\n",
       "    <tr>\n",
       "      <th>17</th>\n",
       "      <td>2021-04-06 20:00:00+00:00</td>\n",
       "      <td>201</td>\n",
       "    </tr>\n",
       "    <tr>\n",
       "      <th>18</th>\n",
       "      <td>2021-04-06 21:00:00+00:00</td>\n",
       "      <td>138</td>\n",
       "    </tr>\n",
       "    <tr>\n",
       "      <th>19</th>\n",
       "      <td>2021-04-06 22:00:00+00:00</td>\n",
       "      <td>128</td>\n",
       "    </tr>\n",
       "    <tr>\n",
       "      <th>20</th>\n",
       "      <td>2021-04-06 23:00:00+00:00</td>\n",
       "      <td>105</td>\n",
       "    </tr>\n",
       "  </tbody>\n",
       "</table>\n",
       "</div>"
      ],
      "text/plain": [
       "                    datetime  count\n",
       "0  2021-04-06 00:00:00+00:00      4\n",
       "1  2021-04-06 01:00:00+00:00      1\n",
       "2  2021-04-06 02:00:00+00:00      2\n",
       "3  2021-04-06 04:00:00+00:00      1\n",
       "4  2021-04-06 05:00:00+00:00      1\n",
       "5  2021-04-06 08:00:00+00:00      1\n",
       "6  2021-04-06 09:00:00+00:00      1\n",
       "7  2021-04-06 10:00:00+00:00      2\n",
       "8  2021-04-06 11:00:00+00:00     49\n",
       "9  2021-04-06 12:00:00+00:00     79\n",
       "10 2021-04-06 13:00:00+00:00     90\n",
       "11 2021-04-06 14:00:00+00:00    158\n",
       "12 2021-04-06 15:00:00+00:00    108\n",
       "13 2021-04-06 16:00:00+00:00     82\n",
       "14 2021-04-06 17:00:00+00:00    127\n",
       "15 2021-04-06 18:00:00+00:00    294\n",
       "16 2021-04-06 19:00:00+00:00    380\n",
       "17 2021-04-06 20:00:00+00:00    201\n",
       "18 2021-04-06 21:00:00+00:00    138\n",
       "19 2021-04-06 22:00:00+00:00    128\n",
       "20 2021-04-06 23:00:00+00:00    105"
      ]
     },
     "execution_count": 16,
     "metadata": {},
     "output_type": "execute_result"
    }
   ],
   "source": [
    "datetimes = sorted(bucket.keys())\n",
    "counts = [bucket[x] for x in datetimes]\n",
    "datetimes = [arrow.get(x).datetime for x in datetimes]\n",
    "columns = [\"datetime\", \"count\"]\n",
    "\n",
    "data_df = pd.DataFrame({\"datetime\": datetimes, \"count\": counts})\n",
    "data_df"
   ]
  },
  {
   "cell_type": "code",
   "execution_count": 18,
   "metadata": {},
   "outputs": [
    {
     "data": {
      "image/png": "[encoded data removed]",
      "text/plain": [
       "<Figure size 1512x432 with 1 Axes>"
      ]
     },
     "metadata": {
      "needs_background": "light"
     },
     "output_type": "display_data"
    }
   ],
   "source": [
    "fig, ax = plt.subplots(figsize=(21, 6))\n",
    "sns.lineplot(data=data_df, x=\"datetime\", y=\"count\", ax=ax)\n",
    "plt.show()"
   ]
  },
  {
   "cell_type": "markdown",
   "metadata": {},
   "source": [
    "## Breakout hours detection"
   ]
  },
  {
   "cell_type": "code",
   "execution_count": 11,
   "metadata": {},
   "outputs": [
    {
     "name": "stdout",
     "output_type": "stream",
     "text": [
      "2021-04-08 15:00:00+00:00\n",
      "2021-04-08 17:00:00+00:00\n"
     ]
    }
   ],
   "source": [
    "datetimes = sorted(bucket.keys())\n",
    "counts = [bucket[x] for x in datetimes]\n",
    "WINDOW = 15\n",
    "\n",
    "for i, time in enumerate(datetimes):\n",
    "    if i >= WINDOW:\n",
    "        mean = stat.mean(counts[i-WINDOW:i])\n",
    "        std  = stat.stdev(counts[i-WINDOW:i])\n",
    "        current_vol = counts[i]\n",
    "        if current_vol > (mean + 2*std):\n",
    "            print(time)\n",
    "        #print(\"Cur\", current_vol, \"Mean\", mean, \"Std\", std)"
   ]
  },
  {
   "cell_type": "code",
   "execution_count": null,
   "metadata": {},
   "outputs": [],
   "source": []
  }
 ],
 "metadata": {
  "kernelspec": {
   "display_name": "Python 3",
   "language": "python",
   "name": "python3"
  },
  "language_info": {
   "codemirror_mode": {
    "name": "ipython",
    "version": 3
   },
   "file_extension": ".py",
   "mimetype": "text/x-python",
   "name": "python",
   "nbconvert_exporter": "python",
   "pygments_lexer": "ipython3",
   "version": "3.8.5"
  }
 },
 "nbformat": 4,
 "nbformat_minor": 4
}
